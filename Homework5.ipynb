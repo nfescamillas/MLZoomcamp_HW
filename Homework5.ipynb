{
 "cells": [
  {
   "cell_type": "code",
   "execution_count": 1,
   "id": "254f61c9",
   "metadata": {},
   "outputs": [],
   "source": [
    "import pandas as pd\n",
    "import matplotlib.pyplot as plt\n",
    "import seaborn as sns\n",
    "import numpy as np"
   ]
  },
  {
   "cell_type": "code",
   "execution_count": 2,
   "id": "00a52d3b",
   "metadata": {},
   "outputs": [],
   "source": [
    "df =pd.read_csv(\"jamb_exam_results.csv\")"
   ]
  },
  {
   "cell_type": "code",
   "execution_count": 3,
   "id": "e681bcfb",
   "metadata": {},
   "outputs": [
    {
     "data": {
      "text/html": [
       "<div>\n",
       "<style scoped>\n",
       "    .dataframe tbody tr th:only-of-type {\n",
       "        vertical-align: middle;\n",
       "    }\n",
       "\n",
       "    .dataframe tbody tr th {\n",
       "        vertical-align: top;\n",
       "    }\n",
       "\n",
       "    .dataframe thead th {\n",
       "        text-align: right;\n",
       "    }\n",
       "</style>\n",
       "<table border=\"1\" class=\"dataframe\">\n",
       "  <thead>\n",
       "    <tr style=\"text-align: right;\">\n",
       "      <th></th>\n",
       "      <th>JAMB_Score</th>\n",
       "      <th>Study_Hours_Per_Week</th>\n",
       "      <th>Attendance_Rate</th>\n",
       "      <th>Teacher_Quality</th>\n",
       "      <th>Distance_To_School</th>\n",
       "      <th>School_Type</th>\n",
       "      <th>School_Location</th>\n",
       "      <th>Extra_Tutorials</th>\n",
       "      <th>Access_To_Learning_Materials</th>\n",
       "      <th>Parent_Involvement</th>\n",
       "      <th>IT_Knowledge</th>\n",
       "      <th>Student_ID</th>\n",
       "      <th>Age</th>\n",
       "      <th>Gender</th>\n",
       "      <th>Socioeconomic_Status</th>\n",
       "      <th>Parent_Education_Level</th>\n",
       "      <th>Assignments_Completed</th>\n",
       "    </tr>\n",
       "  </thead>\n",
       "  <tbody>\n",
       "    <tr>\n",
       "      <th>0</th>\n",
       "      <td>192</td>\n",
       "      <td>22</td>\n",
       "      <td>78</td>\n",
       "      <td>4</td>\n",
       "      <td>12.4</td>\n",
       "      <td>Public</td>\n",
       "      <td>Urban</td>\n",
       "      <td>Yes</td>\n",
       "      <td>Yes</td>\n",
       "      <td>High</td>\n",
       "      <td>Medium</td>\n",
       "      <td>1</td>\n",
       "      <td>17</td>\n",
       "      <td>Male</td>\n",
       "      <td>Low</td>\n",
       "      <td>Tertiary</td>\n",
       "      <td>2</td>\n",
       "    </tr>\n",
       "    <tr>\n",
       "      <th>1</th>\n",
       "      <td>207</td>\n",
       "      <td>14</td>\n",
       "      <td>88</td>\n",
       "      <td>4</td>\n",
       "      <td>2.7</td>\n",
       "      <td>Public</td>\n",
       "      <td>Rural</td>\n",
       "      <td>No</td>\n",
       "      <td>Yes</td>\n",
       "      <td>High</td>\n",
       "      <td>High</td>\n",
       "      <td>2</td>\n",
       "      <td>15</td>\n",
       "      <td>Male</td>\n",
       "      <td>High</td>\n",
       "      <td>None</td>\n",
       "      <td>1</td>\n",
       "    </tr>\n",
       "    <tr>\n",
       "      <th>2</th>\n",
       "      <td>182</td>\n",
       "      <td>29</td>\n",
       "      <td>87</td>\n",
       "      <td>2</td>\n",
       "      <td>9.6</td>\n",
       "      <td>Public</td>\n",
       "      <td>Rural</td>\n",
       "      <td>Yes</td>\n",
       "      <td>Yes</td>\n",
       "      <td>High</td>\n",
       "      <td>Medium</td>\n",
       "      <td>3</td>\n",
       "      <td>20</td>\n",
       "      <td>Female</td>\n",
       "      <td>High</td>\n",
       "      <td>Tertiary</td>\n",
       "      <td>2</td>\n",
       "    </tr>\n",
       "    <tr>\n",
       "      <th>3</th>\n",
       "      <td>210</td>\n",
       "      <td>29</td>\n",
       "      <td>99</td>\n",
       "      <td>2</td>\n",
       "      <td>2.6</td>\n",
       "      <td>Public</td>\n",
       "      <td>Urban</td>\n",
       "      <td>No</td>\n",
       "      <td>Yes</td>\n",
       "      <td>Medium</td>\n",
       "      <td>High</td>\n",
       "      <td>4</td>\n",
       "      <td>22</td>\n",
       "      <td>Female</td>\n",
       "      <td>Medium</td>\n",
       "      <td>Tertiary</td>\n",
       "      <td>1</td>\n",
       "    </tr>\n",
       "    <tr>\n",
       "      <th>4</th>\n",
       "      <td>199</td>\n",
       "      <td>12</td>\n",
       "      <td>98</td>\n",
       "      <td>3</td>\n",
       "      <td>8.8</td>\n",
       "      <td>Public</td>\n",
       "      <td>Urban</td>\n",
       "      <td>No</td>\n",
       "      <td>Yes</td>\n",
       "      <td>Medium</td>\n",
       "      <td>Medium</td>\n",
       "      <td>5</td>\n",
       "      <td>22</td>\n",
       "      <td>Female</td>\n",
       "      <td>Medium</td>\n",
       "      <td>Tertiary</td>\n",
       "      <td>1</td>\n",
       "    </tr>\n",
       "  </tbody>\n",
       "</table>\n",
       "</div>"
      ],
      "text/plain": [
       "   JAMB_Score  Study_Hours_Per_Week  Attendance_Rate  Teacher_Quality  \\\n",
       "0         192                    22               78                4   \n",
       "1         207                    14               88                4   \n",
       "2         182                    29               87                2   \n",
       "3         210                    29               99                2   \n",
       "4         199                    12               98                3   \n",
       "\n",
       "   Distance_To_School School_Type School_Location Extra_Tutorials  \\\n",
       "0                12.4      Public           Urban             Yes   \n",
       "1                 2.7      Public           Rural              No   \n",
       "2                 9.6      Public           Rural             Yes   \n",
       "3                 2.6      Public           Urban              No   \n",
       "4                 8.8      Public           Urban              No   \n",
       "\n",
       "  Access_To_Learning_Materials Parent_Involvement IT_Knowledge  Student_ID  \\\n",
       "0                          Yes               High       Medium           1   \n",
       "1                          Yes               High         High           2   \n",
       "2                          Yes               High       Medium           3   \n",
       "3                          Yes             Medium         High           4   \n",
       "4                          Yes             Medium       Medium           5   \n",
       "\n",
       "   Age  Gender Socioeconomic_Status Parent_Education_Level  \\\n",
       "0   17    Male                  Low               Tertiary   \n",
       "1   15    Male                 High                   None   \n",
       "2   20  Female                 High               Tertiary   \n",
       "3   22  Female               Medium               Tertiary   \n",
       "4   22  Female               Medium               Tertiary   \n",
       "\n",
       "   Assignments_Completed  \n",
       "0                      2  \n",
       "1                      1  \n",
       "2                      2  \n",
       "3                      1  \n",
       "4                      1  "
      ]
     },
     "execution_count": 3,
     "metadata": {},
     "output_type": "execute_result"
    }
   ],
   "source": [
    "df.head()"
   ]
  },
  {
   "cell_type": "code",
   "execution_count": 4,
   "id": "13a85ac5",
   "metadata": {},
   "outputs": [],
   "source": [
    "df.columns = df.columns.str.lower().str.replace(' ', '_')"
   ]
  },
  {
   "cell_type": "code",
   "execution_count": 5,
   "id": "bd4bfcca",
   "metadata": {},
   "outputs": [
    {
     "data": {
      "text/plain": [
       "Index(['jamb_score', 'study_hours_per_week', 'attendance_rate',\n",
       "       'teacher_quality', 'distance_to_school', 'school_type',\n",
       "       'school_location', 'extra_tutorials', 'access_to_learning_materials',\n",
       "       'parent_involvement', 'it_knowledge', 'student_id', 'age', 'gender',\n",
       "       'socioeconomic_status', 'parent_education_level',\n",
       "       'assignments_completed'],\n",
       "      dtype='object')"
      ]
     },
     "execution_count": 5,
     "metadata": {},
     "output_type": "execute_result"
    }
   ],
   "source": [
    "df.columns"
   ]
  },
  {
   "cell_type": "code",
   "execution_count": 6,
   "id": "8028953f",
   "metadata": {},
   "outputs": [],
   "source": [
    "del df['student_id']"
   ]
  },
  {
   "cell_type": "code",
   "execution_count": 7,
   "id": "6531e830",
   "metadata": {},
   "outputs": [
    {
     "name": "stdout",
     "output_type": "stream",
     "text": [
      "<class 'pandas.core.frame.DataFrame'>\n",
      "RangeIndex: 5000 entries, 0 to 4999\n",
      "Data columns (total 16 columns):\n",
      " #   Column                        Non-Null Count  Dtype  \n",
      "---  ------                        --------------  -----  \n",
      " 0   jamb_score                    5000 non-null   int64  \n",
      " 1   study_hours_per_week          5000 non-null   int64  \n",
      " 2   attendance_rate               5000 non-null   int64  \n",
      " 3   teacher_quality               5000 non-null   int64  \n",
      " 4   distance_to_school            5000 non-null   float64\n",
      " 5   school_type                   5000 non-null   object \n",
      " 6   school_location               5000 non-null   object \n",
      " 7   extra_tutorials               5000 non-null   object \n",
      " 8   access_to_learning_materials  5000 non-null   object \n",
      " 9   parent_involvement            5000 non-null   object \n",
      " 10  it_knowledge                  5000 non-null   object \n",
      " 11  age                           5000 non-null   int64  \n",
      " 12  gender                        5000 non-null   object \n",
      " 13  socioeconomic_status          5000 non-null   object \n",
      " 14  parent_education_level        5000 non-null   object \n",
      " 15  assignments_completed         5000 non-null   int64  \n",
      "dtypes: float64(1), int64(6), object(9)\n",
      "memory usage: 625.1+ KB\n"
     ]
    }
   ],
   "source": [
    "df.info()"
   ]
  },
  {
   "cell_type": "code",
   "execution_count": 8,
   "id": "3b0a44d3",
   "metadata": {},
   "outputs": [],
   "source": [
    "df.fillna(0, inplace=True)"
   ]
  },
  {
   "cell_type": "code",
   "execution_count": 9,
   "id": "9b9e46b4",
   "metadata": {},
   "outputs": [
    {
     "data": {
      "text/plain": [
       "5000"
      ]
     },
     "execution_count": 9,
     "metadata": {},
     "output_type": "execute_result"
    }
   ],
   "source": [
    "len(df)"
   ]
  },
  {
   "cell_type": "code",
   "execution_count": 10,
   "id": "53390d76",
   "metadata": {},
   "outputs": [],
   "source": [
    "from sklearn.model_selection import train_test_split\n",
    "\n",
    "df_full_train, df_test = train_test_split(df,test_size=0.2, random_state=1 )\n",
    "df_train, df_val = train_test_split(df_full_train, test_size=0.2, random_state=1)"
   ]
  },
  {
   "cell_type": "code",
   "execution_count": 11,
   "id": "96fcd0ec",
   "metadata": {},
   "outputs": [
    {
     "data": {
      "text/plain": [
       "(3200, 1000, 800)"
      ]
     },
     "execution_count": 11,
     "metadata": {},
     "output_type": "execute_result"
    }
   ],
   "source": [
    "len(df_train), len(df_test), len(df_val)"
   ]
  },
  {
   "cell_type": "code",
   "execution_count": 12,
   "id": "b73c0da8",
   "metadata": {},
   "outputs": [],
   "source": [
    "y_train = df_train['jamb_score']\n",
    "y_val=df_val['jamb_score']\n",
    "y_test=df_test['jamb_score']"
   ]
  },
  {
   "cell_type": "code",
   "execution_count": 13,
   "id": "d82fed42",
   "metadata": {},
   "outputs": [],
   "source": [
    "del df_train['jamb_score']\n",
    "del df_test['jamb_score']\n",
    "del df_val['jamb_score']"
   ]
  },
  {
   "cell_type": "code",
   "execution_count": 14,
   "id": "97f37491",
   "metadata": {},
   "outputs": [],
   "source": [
    "from sklearn.feature_extraction import DictVectorizer\n",
    "\n",
    "train_dicts =df_train.to_dict(orient='records')\n",
    "dv= DictVectorizer(sparse=True)\n",
    "X_train =dv.fit_transform(train_dicts)"
   ]
  },
  {
   "cell_type": "code",
   "execution_count": 15,
   "id": "e4444ed3",
   "metadata": {},
   "outputs": [
    {
     "name": "stderr",
     "output_type": "stream",
     "text": [
      "C:\\ProgramData\\Anaconda3\\lib\\site-packages\\sklearn\\utils\\deprecation.py:87: FutureWarning: Function get_feature_names is deprecated; get_feature_names is deprecated in 1.0 and will be removed in 1.2. Please use get_feature_names_out instead.\n",
      "  warnings.warn(msg, category=FutureWarning)\n"
     ]
    },
    {
     "data": {
      "text/plain": [
       "['access_to_learning_materials=No',\n",
       " 'access_to_learning_materials=Yes',\n",
       " 'age',\n",
       " 'assignments_completed',\n",
       " 'attendance_rate',\n",
       " 'distance_to_school',\n",
       " 'extra_tutorials=No',\n",
       " 'extra_tutorials=Yes',\n",
       " 'gender=Female',\n",
       " 'gender=Male',\n",
       " 'it_knowledge=High',\n",
       " 'it_knowledge=Low',\n",
       " 'it_knowledge=Medium',\n",
       " 'parent_education_level=None',\n",
       " 'parent_education_level=Primary',\n",
       " 'parent_education_level=Secondary',\n",
       " 'parent_education_level=Tertiary',\n",
       " 'parent_involvement=High',\n",
       " 'parent_involvement=Low',\n",
       " 'parent_involvement=Medium',\n",
       " 'school_location=Rural',\n",
       " 'school_location=Urban',\n",
       " 'school_type=Private',\n",
       " 'school_type=Public',\n",
       " 'socioeconomic_status=High',\n",
       " 'socioeconomic_status=Low',\n",
       " 'socioeconomic_status=Medium',\n",
       " 'study_hours_per_week',\n",
       " 'teacher_quality']"
      ]
     },
     "execution_count": 15,
     "metadata": {},
     "output_type": "execute_result"
    }
   ],
   "source": [
    "dv.get_feature_names()"
   ]
  },
  {
   "cell_type": "code",
   "execution_count": 16,
   "id": "2555900b",
   "metadata": {},
   "outputs": [
    {
     "data": {
      "text/plain": [
       "DecisionTreeRegressor(max_depth=1)"
      ]
     },
     "execution_count": 16,
     "metadata": {},
     "output_type": "execute_result"
    }
   ],
   "source": [
    "from sklearn.tree import DecisionTreeRegressor\n",
    "dt = DecisionTreeRegressor(max_depth=1)\n",
    "dt.fit(X_train,y_train)"
   ]
  },
  {
   "cell_type": "code",
   "execution_count": 17,
   "id": "e87a973f",
   "metadata": {},
   "outputs": [
    {
     "name": "stdout",
     "output_type": "stream",
     "text": [
      "|--- study_hours_per_week <= 18.50\n",
      "|   |--- value: [156.06]\n",
      "|--- study_hours_per_week >  18.50\n",
      "|   |--- value: [188.77]\n",
      "\n"
     ]
    },
    {
     "name": "stderr",
     "output_type": "stream",
     "text": [
      "C:\\ProgramData\\Anaconda3\\lib\\site-packages\\sklearn\\utils\\deprecation.py:87: FutureWarning: Function get_feature_names is deprecated; get_feature_names is deprecated in 1.0 and will be removed in 1.2. Please use get_feature_names_out instead.\n",
      "  warnings.warn(msg, category=FutureWarning)\n"
     ]
    }
   ],
   "source": [
    "from sklearn.tree import export_text\n",
    "print(export_text(dt, feature_names=dv.get_feature_names()))"
   ]
  },
  {
   "cell_type": "code",
   "execution_count": 18,
   "id": "409e1aad",
   "metadata": {},
   "outputs": [
    {
     "data": {
      "text/plain": [
       "RandomForestRegressor(n_estimators=10, n_jobs=-1, random_state=1)"
      ]
     },
     "execution_count": 18,
     "metadata": {},
     "output_type": "execute_result"
    }
   ],
   "source": [
    "from sklearn.ensemble import RandomForestRegressor \n",
    "rfr = RandomForestRegressor(n_estimators=10, random_state=1, n_jobs=-1)\n",
    "rfr.fit(X_train,y_train)"
   ]
  },
  {
   "cell_type": "code",
   "execution_count": 19,
   "id": "5611354f",
   "metadata": {},
   "outputs": [
    {
     "name": "stdout",
     "output_type": "stream",
     "text": [
      "41.54324779672384\n"
     ]
    }
   ],
   "source": [
    "from sklearn.metrics import mean_squared_error\n",
    "\n",
    "val_dicts=df_val.to_dict(orient='records')\n",
    "X_val=dv.transform(val_dicts)\n",
    "\n",
    "y_pred = rfr.predict(X_val)\n",
    "print(mean_squared_error(y_pred,y_val, squared=False))"
   ]
  },
  {
   "cell_type": "code",
   "execution_count": 20,
   "id": "58170b31",
   "metadata": {},
   "outputs": [
    {
     "name": "stdout",
     "output_type": "stream",
     "text": [
      "10 41.54324779672384\n",
      "20 40.568140786521134\n",
      "30 40.42273724169494\n",
      "40 40.28674551341297\n",
      "50 40.33035627787089\n",
      "60 40.308190058149336\n",
      "70 40.33469403766744\n",
      "80 40.340785824975725\n",
      "90 40.37829147230257\n",
      "100 40.39739520686946\n",
      "110 40.401218796820906\n",
      "120 40.361209705254474\n",
      "130 40.34022159126725\n",
      "140 40.323593849238776\n",
      "150 40.29040175470524\n",
      "160 40.30256284681514\n",
      "170 40.32186929317449\n",
      "180 40.356027280286426\n",
      "190 40.388807181362026\n",
      "200 40.37063990041216\n",
      "210 40.34309214177925\n",
      "220 40.358927151578825\n",
      "230 40.34500431533201\n",
      "240 40.302411672113884\n",
      "250 40.24726426404657\n"
     ]
    }
   ],
   "source": [
    "scores= []\n",
    "estimators= range(10,251,10)\n",
    "for n in estimators:\n",
    "    rfr = RandomForestRegressor(n_estimators=n, random_state=1, n_jobs=-1)\n",
    "    rfr.fit(X_train,y_train)\n",
    "    y_pred = rfr.predict(X_val)\n",
    "    score = mean_squared_error(y_pred,y_val, squared=False)\n",
    "    scores.append(score)\n",
    "    print(n, score)"
   ]
  },
  {
   "cell_type": "code",
   "execution_count": 21,
   "id": "75ca43d7",
   "metadata": {},
   "outputs": [
    {
     "data": {
      "image/png": "[encoded data removed]",
      "text/plain": [
       "<Figure size 432x288 with 1 Axes>"
      ]
     },
     "metadata": {
      "needs_background": "light"
     },
     "output_type": "display_data"
    }
   ],
   "source": [
    "plt.plot(estimators, scores)\n",
    "plt.show()"
   ]
  },
  {
   "cell_type": "code",
   "execution_count": 22,
   "id": "5fb8d2d9",
   "metadata": {},
   "outputs": [
    {
     "name": "stdout",
     "output_type": "stream",
     "text": [
      "10 39.91931565573123\n",
      "15 40.37460780186438\n",
      "20 40.450799484475716\n",
      "25 40.39580611219618\n"
     ]
    }
   ],
   "source": [
    "for d in [10,15,20,25]:\n",
    "    scores =[]\n",
    "    for n in estimators:\n",
    "        rfr = RandomForestRegressor(n_estimators=n, random_state=1, n_jobs=-1, max_depth= d)\n",
    "        rfr.fit(X_train,y_train)\n",
    "        y_pred = rfr.predict(X_val)\n",
    "        score = mean_squared_error(y_pred,y_val, squared=False)\n",
    "        scores.append(score)\n",
    "    print(d,np.mean(scores))"
   ]
  },
  {
   "cell_type": "code",
   "execution_count": 23,
   "id": "33924350",
   "metadata": {},
   "outputs": [
    {
     "data": {
      "text/plain": [
       "RandomForestRegressor(max_depth=20, n_estimators=10, n_jobs=-1, random_state=1)"
      ]
     },
     "execution_count": 23,
     "metadata": {},
     "output_type": "execute_result"
    }
   ],
   "source": [
    "rfr = RandomForestRegressor(n_estimators=10, random_state=1, n_jobs=-1, max_depth= 20)\n",
    "rfr.fit(X_train,y_train)"
   ]
  },
  {
   "cell_type": "code",
   "execution_count": 24,
   "id": "107e5ca1",
   "metadata": {},
   "outputs": [
    {
     "data": {
      "text/plain": [
       "[('access_to_learning_materials=No', 0.01040780194066559),\n",
       " ('access_to_learning_materials=Yes', 0.011082582930500223),\n",
       " ('age', 0.0654742521733057),\n",
       " ('assignments_completed', 0.03239928541183147),\n",
       " ('attendance_rate', 0.14838349072187773),\n",
       " ('distance_to_school', 0.14030026520177424),\n",
       " ('extra_tutorials=No', 0.008659492554414509),\n",
       " ('extra_tutorials=Yes', 0.010001099679410794),\n",
       " ('gender=Female', 0.00972852035985584),\n",
       " ('gender=Male', 0.01022256618922653),\n",
       " ('it_knowledge=High', 0.023085474215520905),\n",
       " ('it_knowledge=Low', 0.011726461468716632),\n",
       " ('it_knowledge=Medium', 0.011615761661997582),\n",
       " ('parent_education_level=None', 0.01092678706212096),\n",
       " ('parent_education_level=Primary', 0.014044193228893592),\n",
       " ('parent_education_level=Secondary', 0.012695242971502646),\n",
       " ('parent_education_level=Tertiary', 0.012899614799673834),\n",
       " ('parent_involvement=High', 0.02250165704181776),\n",
       " ('parent_involvement=Low', 0.01431375771115544),\n",
       " ('parent_involvement=Medium', 0.01125540501185649),\n",
       " ('school_location=Rural', 0.011320539043031753),\n",
       " ('school_location=Urban', 0.008530987105049632),\n",
       " ('school_type=Private', 0.007917889889174915),\n",
       " ('school_type=Public', 0.01149163492035558),\n",
       " ('socioeconomic_status=High', 0.02221198200147805),\n",
       " ('socioeconomic_status=Low', 0.014022267644254549),\n",
       " ('socioeconomic_status=Medium', 0.013503242611364338),\n",
       " ('study_hours_per_week', 0.23830395421427336),\n",
       " ('teacher_quality', 0.08097379023489942)]"
      ]
     },
     "execution_count": 24,
     "metadata": {},
     "output_type": "execute_result"
    }
   ],
   "source": [
    "list(zip(dv.get_feature_names_out(),rfr.feature_importances_))"
   ]
  },
  {
   "cell_type": "code",
   "execution_count": 25,
   "id": "46ea29ae",
   "metadata": {},
   "outputs": [
    {
     "name": "stderr",
     "output_type": "stream",
     "text": [
      "C:\\ProgramData\\Anaconda3\\lib\\site-packages\\sklearn\\utils\\deprecation.py:87: FutureWarning: Function get_feature_names is deprecated; get_feature_names is deprecated in 1.0 and will be removed in 1.2. Please use get_feature_names_out instead.\n",
      "  warnings.warn(msg, category=FutureWarning)\n"
     ]
    }
   ],
   "source": [
    "import xgboost as xgb\n",
    "\n",
    "features =dv.get_feature_names()\n",
    "dtrain = xgb.DMatrix(X_train, label =y_train, feature_names =features)\n",
    "dval = xgb.DMatrix(X_val, label= y_val, feature_names= features)\n",
    "watchlist =[(dtrain, 'train'),(dval,'val')]"
   ]
  },
  {
   "cell_type": "code",
   "execution_count": 31,
   "id": "00adb235",
   "metadata": {},
   "outputs": [],
   "source": [
    "xgb_params = {\n",
    "    'eta': 0.3, \n",
    "    'max_depth': 6,\n",
    "    'min_child_weight': 1,\n",
    "    \n",
    "    'objective': 'reg:squarederror',\n",
    "    'nthread': 8,\n",
    "    \n",
    "    'seed': 1,\n",
    "    'verbosity': 1,\n",
    "}\n",
    "\n"
   ]
  },
  {
   "cell_type": "code",
   "execution_count": 32,
   "id": "d06c5777",
   "metadata": {},
   "outputs": [
    {
     "name": "stdout",
     "output_type": "stream",
     "text": [
      "[0]\ttrain-rmse:42.91051\tval-rmse:44.64705\n",
      "[1]\ttrain-rmse:40.09350\tval-rmse:42.60487\n",
      "[2]\ttrain-rmse:38.20397\tval-rmse:41.40159\n",
      "[3]\ttrain-rmse:36.79464\tval-rmse:40.93353\n",
      "[4]\ttrain-rmse:35.64362\tval-rmse:40.56901\n",
      "[5]\ttrain-rmse:34.71497\tval-rmse:40.48899\n",
      "[6]\ttrain-rmse:34.02343\tval-rmse:40.38882\n",
      "[7]\ttrain-rmse:33.42801\tval-rmse:40.30785\n",
      "[8]\ttrain-rmse:32.83247\tval-rmse:40.38901\n",
      "[9]\ttrain-rmse:32.42530\tval-rmse:40.45279\n",
      "[10]\ttrain-rmse:31.78525\tval-rmse:40.54012\n",
      "[11]\ttrain-rmse:31.16622\tval-rmse:40.49581\n",
      "[12]\ttrain-rmse:30.79841\tval-rmse:40.55300\n",
      "[13]\ttrain-rmse:30.56113\tval-rmse:40.51578\n",
      "[14]\ttrain-rmse:30.15719\tval-rmse:40.63918\n",
      "[15]\ttrain-rmse:29.69317\tval-rmse:40.75097\n",
      "[16]\ttrain-rmse:29.36733\tval-rmse:40.79682\n",
      "[17]\ttrain-rmse:28.92039\tval-rmse:40.93162\n",
      "[18]\ttrain-rmse:28.50678\tval-rmse:41.08535\n",
      "[19]\ttrain-rmse:28.16481\tval-rmse:41.07532\n",
      "[20]\ttrain-rmse:27.74637\tval-rmse:41.05446\n",
      "[21]\ttrain-rmse:27.62998\tval-rmse:41.05458\n",
      "[22]\ttrain-rmse:27.21743\tval-rmse:41.30374\n",
      "[23]\ttrain-rmse:27.02609\tval-rmse:41.27534\n",
      "[24]\ttrain-rmse:26.75207\tval-rmse:41.21699\n",
      "[25]\ttrain-rmse:26.69254\tval-rmse:41.24063\n",
      "[26]\ttrain-rmse:26.44905\tval-rmse:41.28348\n",
      "[27]\ttrain-rmse:26.23117\tval-rmse:41.35006\n",
      "[28]\ttrain-rmse:25.97413\tval-rmse:41.39298\n",
      "[29]\ttrain-rmse:25.59482\tval-rmse:41.56474\n",
      "[30]\ttrain-rmse:25.36602\tval-rmse:41.56175\n",
      "[31]\ttrain-rmse:25.07350\tval-rmse:41.57315\n",
      "[32]\ttrain-rmse:24.73900\tval-rmse:41.65193\n",
      "[33]\ttrain-rmse:24.44092\tval-rmse:41.69701\n",
      "[34]\ttrain-rmse:24.07848\tval-rmse:41.72555\n",
      "[35]\ttrain-rmse:23.83890\tval-rmse:41.83701\n",
      "[36]\ttrain-rmse:23.54319\tval-rmse:41.88116\n",
      "[37]\ttrain-rmse:23.39113\tval-rmse:41.87839\n",
      "[38]\ttrain-rmse:23.12415\tval-rmse:41.94811\n",
      "[39]\ttrain-rmse:22.85247\tval-rmse:42.00524\n",
      "[40]\ttrain-rmse:22.61671\tval-rmse:42.05800\n",
      "[41]\ttrain-rmse:22.44284\tval-rmse:42.18319\n",
      "[42]\ttrain-rmse:22.02766\tval-rmse:42.23568\n",
      "[43]\ttrain-rmse:21.64020\tval-rmse:42.26002\n",
      "[44]\ttrain-rmse:21.37274\tval-rmse:42.29823\n",
      "[45]\ttrain-rmse:21.22784\tval-rmse:42.33555\n",
      "[46]\ttrain-rmse:21.07248\tval-rmse:42.33643\n",
      "[47]\ttrain-rmse:20.94634\tval-rmse:42.37649\n",
      "[48]\ttrain-rmse:20.80338\tval-rmse:42.40255\n",
      "[49]\ttrain-rmse:20.58780\tval-rmse:42.39851\n",
      "[50]\ttrain-rmse:20.48201\tval-rmse:42.41658\n",
      "[51]\ttrain-rmse:20.34060\tval-rmse:42.46022\n",
      "[52]\ttrain-rmse:20.26128\tval-rmse:42.53312\n",
      "[53]\ttrain-rmse:20.07615\tval-rmse:42.57930\n",
      "[54]\ttrain-rmse:19.99829\tval-rmse:42.57832\n",
      "[55]\ttrain-rmse:19.70262\tval-rmse:42.61428\n",
      "[56]\ttrain-rmse:19.61639\tval-rmse:42.67086\n",
      "[57]\ttrain-rmse:19.43582\tval-rmse:42.76024\n",
      "[58]\ttrain-rmse:19.14491\tval-rmse:42.83609\n",
      "[59]\ttrain-rmse:18.94701\tval-rmse:42.86297\n",
      "[60]\ttrain-rmse:18.59766\tval-rmse:42.97386\n",
      "[61]\ttrain-rmse:18.38182\tval-rmse:42.97160\n",
      "[62]\ttrain-rmse:18.13491\tval-rmse:42.95573\n",
      "[63]\ttrain-rmse:18.08234\tval-rmse:42.98679\n",
      "[64]\ttrain-rmse:17.82780\tval-rmse:43.00853\n",
      "[65]\ttrain-rmse:17.71515\tval-rmse:43.05034\n",
      "[66]\ttrain-rmse:17.67415\tval-rmse:43.07497\n",
      "[67]\ttrain-rmse:17.54991\tval-rmse:43.05000\n",
      "[68]\ttrain-rmse:17.43024\tval-rmse:43.08742\n",
      "[69]\ttrain-rmse:17.13687\tval-rmse:43.15010\n",
      "[70]\ttrain-rmse:16.88900\tval-rmse:43.20312\n",
      "[71]\ttrain-rmse:16.74369\tval-rmse:43.19730\n",
      "[72]\ttrain-rmse:16.65483\tval-rmse:43.19222\n",
      "[73]\ttrain-rmse:16.33949\tval-rmse:43.17945\n",
      "[74]\ttrain-rmse:16.12969\tval-rmse:43.18823\n",
      "[75]\ttrain-rmse:15.91138\tval-rmse:43.19527\n",
      "[76]\ttrain-rmse:15.72969\tval-rmse:43.20119\n",
      "[77]\ttrain-rmse:15.49372\tval-rmse:43.26636\n",
      "[78]\ttrain-rmse:15.28445\tval-rmse:43.29422\n",
      "[79]\ttrain-rmse:15.23914\tval-rmse:43.30754\n",
      "[80]\ttrain-rmse:15.18359\tval-rmse:43.31768\n",
      "[81]\ttrain-rmse:14.98973\tval-rmse:43.28749\n",
      "[82]\ttrain-rmse:14.76178\tval-rmse:43.33272\n",
      "[83]\ttrain-rmse:14.52886\tval-rmse:43.29052\n",
      "[84]\ttrain-rmse:14.45244\tval-rmse:43.28739\n",
      "[85]\ttrain-rmse:14.27913\tval-rmse:43.26827\n",
      "[86]\ttrain-rmse:14.04760\tval-rmse:43.31655\n",
      "[87]\ttrain-rmse:13.98165\tval-rmse:43.35153\n",
      "[88]\ttrain-rmse:13.86305\tval-rmse:43.34958\n",
      "[89]\ttrain-rmse:13.71390\tval-rmse:43.41466\n",
      "[90]\ttrain-rmse:13.50898\tval-rmse:43.49034\n",
      "[91]\ttrain-rmse:13.31307\tval-rmse:43.49094\n",
      "[92]\ttrain-rmse:13.19280\tval-rmse:43.57939\n",
      "[93]\ttrain-rmse:13.05720\tval-rmse:43.57358\n",
      "[94]\ttrain-rmse:12.93454\tval-rmse:43.64946\n",
      "[95]\ttrain-rmse:12.82596\tval-rmse:43.63100\n",
      "[96]\ttrain-rmse:12.74706\tval-rmse:43.66159\n",
      "[97]\ttrain-rmse:12.70669\tval-rmse:43.67561\n",
      "[98]\ttrain-rmse:12.52119\tval-rmse:43.70734\n",
      "[99]\ttrain-rmse:12.40000\tval-rmse:43.72911\n"
     ]
    }
   ],
   "source": [
    "model =xgb.train(xgb_params, dtrain,evals=watchlist, num_boost_round=100)"
   ]
  },
  {
   "cell_type": "code",
   "execution_count": 33,
   "id": "8d277e47",
   "metadata": {},
   "outputs": [],
   "source": [
    "xgb_params = {\n",
    "    'eta': 0.1, \n",
    "    'max_depth': 6,\n",
    "    'min_child_weight': 1,\n",
    "    \n",
    "    'objective': 'reg:squarederror',\n",
    "    'nthread': 8,\n",
    "    \n",
    "    'seed': 1,\n",
    "    'verbosity': 1,\n",
    "}\n",
    "\n"
   ]
  },
  {
   "cell_type": "code",
   "execution_count": 34,
   "id": "a36d4331",
   "metadata": {},
   "outputs": [
    {
     "name": "stdout",
     "output_type": "stream",
     "text": [
      "[0]\ttrain-rmse:45.63274\tval-rmse:46.87538\n",
      "[1]\ttrain-rmse:44.30763\tval-rmse:45.80280\n",
      "[2]\ttrain-rmse:43.11201\tval-rmse:44.85602\n",
      "[3]\ttrain-rmse:42.08628\tval-rmse:44.11227\n",
      "[4]\ttrain-rmse:41.14641\tval-rmse:43.38290\n",
      "[5]\ttrain-rmse:40.31147\tval-rmse:42.78603\n",
      "[6]\ttrain-rmse:39.60832\tval-rmse:42.23248\n",
      "[7]\ttrain-rmse:38.94806\tval-rmse:41.84044\n",
      "[8]\ttrain-rmse:38.40949\tval-rmse:41.50510\n",
      "[9]\ttrain-rmse:37.83180\tval-rmse:41.16108\n",
      "[10]\ttrain-rmse:37.33867\tval-rmse:40.90394\n",
      "[11]\ttrain-rmse:36.89943\tval-rmse:40.67772\n",
      "[12]\ttrain-rmse:36.48706\tval-rmse:40.50860\n",
      "[13]\ttrain-rmse:36.11793\tval-rmse:40.35888\n",
      "[14]\ttrain-rmse:35.77876\tval-rmse:40.24602\n",
      "[15]\ttrain-rmse:35.45522\tval-rmse:40.12821\n",
      "[16]\ttrain-rmse:35.09494\tval-rmse:40.00583\n",
      "[17]\ttrain-rmse:34.81707\tval-rmse:39.92723\n",
      "[18]\ttrain-rmse:34.49344\tval-rmse:39.84298\n",
      "[19]\ttrain-rmse:34.21822\tval-rmse:39.79007\n",
      "[20]\ttrain-rmse:33.95054\tval-rmse:39.77532\n",
      "[21]\ttrain-rmse:33.70425\tval-rmse:39.71921\n",
      "[22]\ttrain-rmse:33.49153\tval-rmse:39.69830\n",
      "[23]\ttrain-rmse:33.28525\tval-rmse:39.66496\n",
      "[24]\ttrain-rmse:33.10121\tval-rmse:39.63198\n",
      "[25]\ttrain-rmse:32.91152\tval-rmse:39.60236\n",
      "[26]\ttrain-rmse:32.70523\tval-rmse:39.52525\n",
      "[27]\ttrain-rmse:32.56445\tval-rmse:39.52423\n",
      "[28]\ttrain-rmse:32.35764\tval-rmse:39.49493\n",
      "[29]\ttrain-rmse:32.17651\tval-rmse:39.44945\n",
      "[30]\ttrain-rmse:31.98907\tval-rmse:39.43146\n",
      "[31]\ttrain-rmse:31.89141\tval-rmse:39.43380\n",
      "[32]\ttrain-rmse:31.76390\tval-rmse:39.43183\n",
      "[33]\ttrain-rmse:31.64652\tval-rmse:39.41553\n",
      "[34]\ttrain-rmse:31.41132\tval-rmse:39.40558\n",
      "[35]\ttrain-rmse:31.22937\tval-rmse:39.41851\n",
      "[36]\ttrain-rmse:31.13174\tval-rmse:39.38449\n",
      "[37]\ttrain-rmse:30.97241\tval-rmse:39.40601\n",
      "[38]\ttrain-rmse:30.87754\tval-rmse:39.37624\n",
      "[39]\ttrain-rmse:30.74227\tval-rmse:39.39317\n",
      "[40]\ttrain-rmse:30.62475\tval-rmse:39.37573\n",
      "[41]\ttrain-rmse:30.47805\tval-rmse:39.38277\n",
      "[42]\ttrain-rmse:30.33728\tval-rmse:39.37773\n",
      "[43]\ttrain-rmse:30.24105\tval-rmse:39.40979\n",
      "[44]\ttrain-rmse:30.08324\tval-rmse:39.43638\n",
      "[45]\ttrain-rmse:29.94796\tval-rmse:39.44438\n",
      "[46]\ttrain-rmse:29.72486\tval-rmse:39.43419\n",
      "[47]\ttrain-rmse:29.60083\tval-rmse:39.44776\n",
      "[48]\ttrain-rmse:29.47157\tval-rmse:39.44468\n",
      "[49]\ttrain-rmse:29.32900\tval-rmse:39.42849\n",
      "[50]\ttrain-rmse:29.22443\tval-rmse:39.44678\n",
      "[51]\ttrain-rmse:29.13117\tval-rmse:39.44638\n",
      "[52]\ttrain-rmse:29.01061\tval-rmse:39.45223\n",
      "[53]\ttrain-rmse:28.80177\tval-rmse:39.45201\n",
      "[54]\ttrain-rmse:28.70558\tval-rmse:39.43859\n",
      "[55]\ttrain-rmse:28.64287\tval-rmse:39.44263\n",
      "[56]\ttrain-rmse:28.51707\tval-rmse:39.46131\n",
      "[57]\ttrain-rmse:28.40282\tval-rmse:39.47290\n",
      "[58]\ttrain-rmse:28.28301\tval-rmse:39.47264\n",
      "[59]\ttrain-rmse:28.16349\tval-rmse:39.49676\n",
      "[60]\ttrain-rmse:28.06180\tval-rmse:39.48522\n",
      "[61]\ttrain-rmse:27.94640\tval-rmse:39.47234\n",
      "[62]\ttrain-rmse:27.84825\tval-rmse:39.47800\n",
      "[63]\ttrain-rmse:27.74913\tval-rmse:39.49058\n",
      "[64]\ttrain-rmse:27.65931\tval-rmse:39.49332\n",
      "[65]\ttrain-rmse:27.55732\tval-rmse:39.50587\n",
      "[66]\ttrain-rmse:27.47549\tval-rmse:39.50598\n",
      "[67]\ttrain-rmse:27.36882\tval-rmse:39.53482\n",
      "[68]\ttrain-rmse:27.28133\tval-rmse:39.55264\n",
      "[69]\ttrain-rmse:27.15501\tval-rmse:39.54402\n",
      "[70]\ttrain-rmse:27.07405\tval-rmse:39.55396\n",
      "[71]\ttrain-rmse:27.02661\tval-rmse:39.56647\n",
      "[72]\ttrain-rmse:26.97063\tval-rmse:39.58779\n",
      "[73]\ttrain-rmse:26.83476\tval-rmse:39.60597\n",
      "[74]\ttrain-rmse:26.66144\tval-rmse:39.63291\n",
      "[75]\ttrain-rmse:26.56424\tval-rmse:39.67956\n",
      "[76]\ttrain-rmse:26.52067\tval-rmse:39.70005\n",
      "[77]\ttrain-rmse:26.42690\tval-rmse:39.71689\n",
      "[78]\ttrain-rmse:26.35268\tval-rmse:39.71200\n",
      "[79]\ttrain-rmse:26.31947\tval-rmse:39.72454\n",
      "[80]\ttrain-rmse:26.21624\tval-rmse:39.77869\n",
      "[81]\ttrain-rmse:26.11357\tval-rmse:39.81219\n",
      "[82]\ttrain-rmse:26.07454\tval-rmse:39.81699\n",
      "[83]\ttrain-rmse:25.98123\tval-rmse:39.84816\n",
      "[84]\ttrain-rmse:25.94868\tval-rmse:39.86585\n",
      "[85]\ttrain-rmse:25.91962\tval-rmse:39.88214\n",
      "[86]\ttrain-rmse:25.81373\tval-rmse:39.91647\n",
      "[87]\ttrain-rmse:25.71501\tval-rmse:39.92189\n",
      "[88]\ttrain-rmse:25.54307\tval-rmse:39.96000\n",
      "[89]\ttrain-rmse:25.47943\tval-rmse:39.96746\n",
      "[90]\ttrain-rmse:25.45355\tval-rmse:39.97881\n",
      "[91]\ttrain-rmse:25.39411\tval-rmse:39.96108\n",
      "[92]\ttrain-rmse:25.23912\tval-rmse:40.02508\n",
      "[93]\ttrain-rmse:25.10061\tval-rmse:40.04214\n",
      "[94]\ttrain-rmse:24.96375\tval-rmse:40.03007\n",
      "[95]\ttrain-rmse:24.87031\tval-rmse:40.04154\n",
      "[96]\ttrain-rmse:24.83080\tval-rmse:40.05034\n",
      "[97]\ttrain-rmse:24.68463\tval-rmse:40.07273\n",
      "[98]\ttrain-rmse:24.54647\tval-rmse:40.07734\n",
      "[99]\ttrain-rmse:24.43915\tval-rmse:40.12393\n"
     ]
    }
   ],
   "source": [
    "model =xgb.train(xgb_params, dtrain,evals=watchlist, num_boost_round=100)"
   ]
  }
 ],
 "metadata": {
  "kernelspec": {
   "display_name": "Python 3 (ipykernel)",
   "language": "python",
   "name": "python3"
  },
  "language_info": {
   "codemirror_mode": {
    "name": "ipython",
    "version": 3
   },
   "file_extension": ".py",
   "mimetype": "text/x-python",
   "name": "python",
   "nbconvert_exporter": "python",
   "pygments_lexer": "ipython3",
   "version": "3.9.12"
  }
 },
 "nbformat": 4,
 "nbformat_minor": 5
}
